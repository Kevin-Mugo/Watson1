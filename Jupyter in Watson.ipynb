{
    "cells": [
        {
            "cell_type": "markdown",
            "metadata": {},
            "source": "My first jupyter notebook code"
        },
        {
            "cell_type": "code",
            "execution_count": null,
            "metadata": {},
            "outputs": [],
            "source": ""
        },
        {
            "cell_type": "code",
            "execution_count": null,
            "metadata": {},
            "outputs": [],
            "source": ""
        },
        {
            "cell_type": "code",
            "execution_count": 3,
            "metadata": {},
            "outputs": [
                {
                    "data": {
                        "text/html": "<div>\n<style scoped>\n    .dataframe tbody tr th:only-of-type {\n        vertical-align: middle;\n    }\n\n    .dataframe tbody tr th {\n        vertical-align: top;\n    }\n\n    .dataframe thead th {\n        text-align: right;\n    }\n</style>\n<table border=\"1\" class=\"dataframe\">\n  <thead>\n    <tr style=\"text-align: right;\">\n      <th></th>\n      <th>PLAYER</th>\n      <th>Record_ID#</th>\n      <th>SALARY</th>\n      <th>ROOKIE</th>\n      <th>POS</th>\n      <th>G</th>\n      <th>PA</th>\n      <th>AB</th>\n      <th>H</th>\n      <th>1B</th>\n      <th>...</th>\n      <th>R3</th>\n      <th>R1_BI</th>\n      <th>R2_BI</th>\n      <th>R3_BI</th>\n      <th>ROB</th>\n      <th>OBI</th>\n      <th>R1BI%</th>\n      <th>R2BI%</th>\n      <th>R3BI%</th>\n      <th>OBI%</th>\n    </tr>\n  </thead>\n  <tbody>\n    <tr>\n      <th>0</th>\n      <td>Gregg Zaun</td>\n      <td>1</td>\n      <td>3750000</td>\n      <td>0</td>\n      <td>2</td>\n      <td>85</td>\n      <td>288</td>\n      <td>245</td>\n      <td>58</td>\n      <td>40</td>\n      <td>...</td>\n      <td>39</td>\n      <td>2</td>\n      <td>9</td>\n      <td>13</td>\n      <td>203</td>\n      <td>24</td>\n      <td>2.2</td>\n      <td>12.0</td>\n      <td>33.3</td>\n      <td>11.8</td>\n    </tr>\n    <tr>\n      <th>1</th>\n      <td>Henry Blanco</td>\n      <td>2</td>\n      <td>3175000</td>\n      <td>0</td>\n      <td>2</td>\n      <td>54</td>\n      <td>128</td>\n      <td>120</td>\n      <td>35</td>\n      <td>29</td>\n      <td>...</td>\n      <td>18</td>\n      <td>1</td>\n      <td>2</td>\n      <td>6</td>\n      <td>107</td>\n      <td>9</td>\n      <td>1.9</td>\n      <td>5.4</td>\n      <td>33.3</td>\n      <td>8.4</td>\n    </tr>\n    <tr>\n      <th>2</th>\n      <td>Moises Alou</td>\n      <td>7</td>\n      <td>7500000</td>\n      <td>0</td>\n      <td>7</td>\n      <td>15</td>\n      <td>54</td>\n      <td>49</td>\n      <td>17</td>\n      <td>15</td>\n      <td>...</td>\n      <td>7</td>\n      <td>0</td>\n      <td>4</td>\n      <td>5</td>\n      <td>33</td>\n      <td>9</td>\n      <td>0.0</td>\n      <td>40.0</td>\n      <td>71.4</td>\n      <td>27.3</td>\n    </tr>\n    <tr>\n      <th>3</th>\n      <td>Corey Patterson</td>\n      <td>9</td>\n      <td>3000000</td>\n      <td>0</td>\n      <td>8</td>\n      <td>123</td>\n      <td>392</td>\n      <td>366</td>\n      <td>75</td>\n      <td>46</td>\n      <td>...</td>\n      <td>37</td>\n      <td>3</td>\n      <td>6</td>\n      <td>15</td>\n      <td>218</td>\n      <td>24</td>\n      <td>2.6</td>\n      <td>9.0</td>\n      <td>40.5</td>\n      <td>11.0</td>\n    </tr>\n    <tr>\n      <th>4</th>\n      <td>Rod Barajas</td>\n      <td>10</td>\n      <td>700000</td>\n      <td>0</td>\n      <td>2</td>\n      <td>100</td>\n      <td>377</td>\n      <td>349</td>\n      <td>87</td>\n      <td>53</td>\n      <td>...</td>\n      <td>52</td>\n      <td>10</td>\n      <td>11</td>\n      <td>17</td>\n      <td>275</td>\n      <td>38</td>\n      <td>6.8</td>\n      <td>14.5</td>\n      <td>32.7</td>\n      <td>13.8</td>\n    </tr>\n  </tbody>\n</table>\n<p>5 rows \u00d7 134 columns</p>\n</div>",
                        "text/plain": "            PLAYER  Record_ID#   SALARY  ROOKIE  POS    G   PA   AB   H  1B  \\\n0       Gregg Zaun           1  3750000       0    2   85  288  245  58  40   \n1     Henry Blanco           2  3175000       0    2   54  128  120  35  29   \n2      Moises Alou           7  7500000       0    7   15   54   49  17  15   \n3  Corey Patterson           9  3000000       0    8  123  392  366  75  46   \n4      Rod Barajas          10   700000       0    2  100  377  349  87  53   \n\n   ...  R3  R1_BI  R2_BI  R3_BI  ROB  OBI  R1BI%  R2BI%  R3BI%  OBI%  \n0  ...  39      2      9     13  203   24    2.2   12.0   33.3  11.8  \n1  ...  18      1      2      6  107    9    1.9    5.4   33.3   8.4  \n2  ...   7      0      4      5   33    9    0.0   40.0   71.4  27.3  \n3  ...  37      3      6     15  218   24    2.6    9.0   40.5  11.0  \n4  ...  52     10     11     17  275   38    6.8   14.5   32.7  13.8  \n\n[5 rows x 134 columns]"
                    },
                    "execution_count": 3,
                    "metadata": {},
                    "output_type": "execute_result"
                }
            ],
            "source": "# The code was removed by Watson Studio for sharing."
        },
        {
            "cell_type": "code",
            "execution_count": null,
            "metadata": {},
            "outputs": [],
            "source": ""
        },
        {
            "cell_type": "code",
            "execution_count": null,
            "metadata": {},
            "outputs": [],
            "source": ""
        }
    ],
    "metadata": {
        "kernelspec": {
            "display_name": "Python 3.10",
            "language": "python",
            "name": "python3"
        },
        "language_info": {
            "codemirror_mode": {
                "name": "ipython",
                "version": 3
            },
            "file_extension": ".py",
            "mimetype": "text/x-python",
            "name": "python",
            "nbconvert_exporter": "python",
            "pygments_lexer": "ipython3",
            "version": "3.10.6"
        }
    },
    "nbformat": 4,
    "nbformat_minor": 1
}